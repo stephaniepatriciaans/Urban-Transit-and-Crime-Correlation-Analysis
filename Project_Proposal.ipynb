{
 "cells": [
  {
   "attachments": {},
   "cell_type": "markdown",
   "metadata": {},
   "source": [
    "# Project Proposal"
   ]
  },
  {
   "attachments": {},
   "cell_type": "markdown",
   "metadata": {},
   "source": [
    "# Name\n",
    "\n",
    "Stephanie Patricia Anshell"
   ]
  },
  {
   "attachments": {},
   "cell_type": "markdown",
   "metadata": {},
   "source": [
    "# Research Question"
   ]
  },
  {
   "attachments": {},
   "cell_type": "markdown",
   "metadata": {},
   "source": [
    "What is the correlation between public transportation accessibility—assessed through transit stop density, service frequency, passenger volume, transit system integration, transfer ease among modes, and availability of diverse transit options—and urban crime rates (violent vs. property crimes) in major U.S. cities like Chicago and New York City from 2014 to 2021?"
   ]
  },
  {
   "attachments": {},
   "cell_type": "markdown",
   "metadata": {},
   "source": [
    "# Background and Prior Work"
   ]
  },
  {
   "attachments": {},
   "cell_type": "markdown",
   "metadata": {},
   "source": [
    "Urban planners and criminologists have long sought to answer how public transportation systems influence local crime rates, especially in major metropolitan areas. The common hypothesis is that transit accessibility can function either as a deterrent or attractor for opportunistic crimes where large crowds gather every day. By exploring the interplay between different factors researchers hope to inform evidence based transportation and policing in order to create safer and better cities. \n",
    "\n",
    "Several studies illustrate the complexity of this relationship. Ridgeway and MacDonald<a name=\"cite_ref-1\"></a>[<sup>1</sup>](#cite_note-1) investigated Los Angeles Metro Rail expansions between 1988 and 2014. They leveraged major strikes as natural experiments to examine crime trends in neighborhoods that are affected by disrupted transit systems. Furthermore, they examined the effects of newly established transit access. Contrary to earlier assumptions that transit stops serve as a crime magnet, they failed to find significant impact of rail services on local crime rates.\n",
    "\n",
    "This stands in contrast to the result Neiss<a name=\"cite_ref-2\"></a>[<sup>2</sup>](#cite_note-2) evaluated with short term effects of the new bus line introduced in Cleveland. From this incident Neiss was able to detect a measurable uptick in property crime following the introduction of that new line. Meanwhile, Newton’s broader survey<a name=\"cite_ref-3\"></a>[<sup>3</sup>](#cite_note-3) of crime on public transport underscored the importance of context from his observations that crimes often cluster at specific stations or nodes rather than uniformly throughout the transit system. \n",
    "\n",
    "Considering these findings together, it would be necessary to implement large data driven approaches that include geographic and socioeconomic conditions alongside the transit and crime metrics, to determine how public transportation contributes to changes in crime patterns. As prior works have mixed results, and focus on single cities or short term effects, This research should aim to analyze multiple major cities and long term data such that offers broader perspective on how transit accessibility affects crime rate. Through this I expect to fill the gap in the academic and policy discourse, clarifying whether certain patterns hold across diverse urban environments and its transportation.\n",
    "\n",
    "\n",
    "1. <a name=\"cite_note-1\"></a> [^](#cite_ref-1) Ridgeway, G., & MacDonald, J. (2015). Effect of Rail Transit on Crime: A Study of Los Angeles from 1988-2014. Penn Criminology Working Papers. https://crim.sas.upenn.edu/sites/default/files/2015-14.0_Ridgeway_MacDonald_RailEffect%281%29.pdf\n",
    "2. <a name=\"cite_note-2\"></a> [^](#cite_ref-2) Neiss, S. (2015). Does Public Transit Affect Crime? The Addition of a Bus Line in Cleveland, Ohio. The Journal of Economics and Politics. https://collected.jcu.edu/cgi/viewcontent.cgi?article=1003&context=jep\n",
    "2. <a name=\"cite_note-3\"></a> [^](#cite_ref-3) Newton, A. (2014). Crime on Public Transport. In Encyclopedia of Criminology and Criminal Justice (pp. 795-804). https://www.researchgate.net/publication/277327477_Crime_on_Public_Transport\n"
   ]
  },
  {
   "attachments": {},
   "cell_type": "markdown",
   "metadata": {},
   "source": [
    "### Literature Review:\n",
    "1. Ridgeway, G., & MacDonald, J. (2015) Effect of Rail Transit on Crime: A Study of Los Angeles from 1988-2014. Penn Criminology Working Papers. \n",
    "\n",
    " Ridgeway and MacDonal examined the long term impact of Los Angeles Metro Rail expansion on neighborhood crime rates from 1988 to 2014. They analyzed crime data before and after new station openings and marked two major strikes as natural experiments to see the effect of transit accessibility on crime. Their finding suggests that public transit expansions had no significant impact on crime rates in surrounding neighborhoods. While some of their cited prior studies identified transit stops as crime hotspots, they found no evidence to back up such claims. They concluded that crime trends remained stable regardless of transit disruptions or expansions.\n",
    "\n",
    "2. Neiss, S. (2015) Does Public Transit Affect Crime? The Addition of a Bus Line in Cleveland, Ohio. The Journal of Economics and Politics. \n",
    "\n",
    " This paper investigated the short term effects of introducing a new bus line in Cleveland on local property crime rates. By analyzing data before and after the introduction of that bus line, the research found evidence suggesting that public transportation can increase crime rates in surrounding areas. Neiss noted that this conclusion is based on short term observation and recommended further assessments on long term impacts.\n",
    "\n",
    "3. Newton, A. (2014) Crime on Public Transport. In Encyclopedia of Criminology and Criminal Justice\n",
    "\n",
    " This paper examines how crime concentrates and potentially specializes within and around public transport systems. Newton discusses the unique challenges in identifying crime patterns in these settings and highlights the distinct environments such as stations and vehicles where crime can occur. This work showed that crime is often concentrated at specific transit nodes rather than uniformly across the transit network. However, this work does not directly answer the research question as it was finished open ended in terms of whether public transportation works as a crime attractor with Newton stating that it depends on other aspects of such stations. "
   ]
  },
  {
   "attachments": {},
   "cell_type": "markdown",
   "metadata": {},
   "source": [
    "# Hypothesis\n"
   ]
  },
  {
   "attachments": {},
   "cell_type": "markdown",
   "metadata": {},
   "source": [
    "I hypothesize that higher public transportation accessibility, measured by transit stop density, service frequency, and ridership, is positively correlated with reported crime rates (both violent and property crimes) in major U.S. cities from 2014 to 2021. Specifically, I expect that areas with increased transit access will exhibit higher crime counts and that normalizing crime by ridership may reveal whether these areas experience a disproportionate number of crimes relative to the size of people present. While I acknowledge that socioeconomic factors will likely play a role in this, my analysis will focus on transit metrics and crime data."
   ]
  },
  {
   "attachments": {},
   "cell_type": "markdown",
   "metadata": {},
   "source": [
    "# Data"
   ]
  },
  {
   "attachments": {},
   "cell_type": "markdown",
   "metadata": {},
   "source": [
    "## Data overview\n",
    "\n",
    "For each dataset include the following information\n",
    "- Dataset #1\n",
    "  - Dataset Name:NYPD Arrests Data (Historic)\n",
    "  - Link to the dataset: https://data.cityofnewyork.us/Public-Safety/NYPD-Arrests-Data-Historic-/8h9b-rp9u/data_preview\n",
    "  - Number of observations:5725522\n",
    "  - Number of variables:19\n",
    "- Dataset #2 \n",
    "  - Dataset Name:Chicago Crimes - 2001 to Present \n",
    "  - Link to the dataset: https://data.cityofchicago.org/Public-Safety/Crimes-2001-to-Present/ijzp-q8t2/about_data\n",
    "  - Number of observations: 8261886\n",
    "  - Number of variables: 22\n",
    "- Dataset #3\n",
    "  - Dataset Name:MTA Subway Stations\n",
    "  - Link to the dataset: https://catalog.data.gov/dataset/mta-subway-stations\n",
    "  - Number of observations: 496\n",
    "  - Number of variables: 19\n",
    "- Dataset #4\n",
    "  - Dataset Name: MTA Subway Turnstile Usage Data \n",
    "  - Link to the dataset: https://catalog.data.gov/dataset/?q=MTA+Subway+Turnstile+Usage+Data&sort=views_recent+desc&ext_location=&ext_bbox=&ext_prev_extent=\n",
    "  - Number of observations:9492670\n",
    "  - Number of variables: 11\n",
    "- Dataset #5\n",
    "  - Dataset Name:CTA - System Information - List of 'L' Stops\n",
    "  - Link to the dataset: https://data.cityofchicago.org/Transportation/CTA-System-Information-List-of-L-Stops/8pix-ypme/about_data\n",
    "  - Number of observations: 302\n",
    "  - Number of variables: 17\n",
    "- Dataset #6\n",
    "  - Dataset Name: CTA - Ridership - 'L' Station Entries - Daily Totals\n",
    "  - Link to the dataset: https://data.cityofchicago.org/Transportation/CTA-Ridership-L-Station-Entries-Daily-Totals/5neh-572f/data_preview\n",
    "  - Number of observations: 1250303\n",
    "  - Number of variables: 5"
   ]
  },
  {
   "attachments": {},
   "cell_type": "markdown",
   "metadata": {},
   "source": [
    "**For all these Datasets' pre-processing, I will drop any datapoint that is not within 2014 to 2022 in terms of years according to the scope of research.**\n",
    "\n",
    "\n",
    "\n",
    "\n",
    "* Dataset 1: This dataset contains arrest records from New York City. Each arrest has a unique ID number (ARREST_KEY) and a date (ARREST_DATE) that might need to be changed into a proper date format. It also includes offense codes (like PD_CD, KY_CD, PD_DESC, and OFNS_DESC) that describe the type of crime. There are also demographic details, such as AGE_GROUP, PERP_SEX, and PERP_RACE, that show the ages, genders, and races of those arrested. Location information is given with (X_COORD_CD, Y_COORD_CD, Latitude, and Longitude), and there’s also a geometry field (Lon_Lat) that may need to be changed into a more useful format for mapping. In terms of pre-processing I need to fix dates format, redefine or organize categories, correct missing or wrong location details, and remove duplicate records to make sure everything is accurate and easy to analyze.\n",
    "\n",
    "* Dataset 2: This dataset has crime incident records from Chicago. Each crime has a unique ID and Case Number to identify it. It also includes dates (Date, Updated On) and location details (Block, X Coordinate, Y Coordinate, Latitude, and Longitude) to show where the crime happened. The dataset has crime categories like Primary Type and Description, as well as true/false (yes/no) fields like Arrest whether someone was arrested and Domestic if the crime was related to domestic violence. These details help understand the types and seriousness of crimes in different neighborhoods. Like the previous case, I might need to fix the date format, check location details, and make sure all crime categories are written consistently in accordance with Dataset 1 so the information is accurate and clear.\n",
    "\n",
    "* Dataset 3: This dataset gives information about subway stations in New York City. It includes station IDs (GTFS Stop ID, Station ID, Complex ID), station names, and details about the subway lines that stop there. It also has geographic coordinates (latitude and longitude) to show where each station is and ADA accessibility details to indicate whether the station is accessible to people with disabilities. In the future, check location accuracy, make sure station names and routes are consistent, and fix any missing information about accessibility.\n",
    "\n",
    "* Dataset 4: This dataset tracks how many people enter and exit the subway at different times and places. It includes station details (Station, Control Area, Unit, SCP), as well as date, time, and the number of passengers. These numbers help show how busy different stations are at different times of the day. Furthermore, the other years from 2014 to 2022 should be combined. For pre-processing, organize the time and date information correctly, remove duplicate records, and combine data from multiple turnstiles at the same station to get a full picture of station usage.\n",
    "\n",
    "* Dataset 5: This dataset lists the Chicago ‘L’ train stops and details like Stop ID, Stop Name, and Station Name. It also shows which train lines (Red, Blue, Green, etc.) stop there. The dataset includes location coordinates (latitude and longitude) and tells whether a station is ADA accessible for people with disabilities. Station names should be written the same way across the dataset, and fix missing or incorrect information about which train lines serve each stop.\n",
    "\n",
    "* Dataset 6: This dataset keeps track of how many people use each ‘L’ station in Chicago every day. It includes station IDs, station names, dates, and the number of riders who entered each station. There is also a day type field that shows if the data is from a weekday or weekend. I will have to convert dates into a standard format, make sure station names and IDs align with Dataset 5, and fix any missing or incorrect rider counts.\n",
    "\n",
    "I am planning to combine these datasets by first performing a spatial join, using the coordinates of both crime incidents and transit stations to identify crimes occurring within a defined buffer or proximity around each station. Next, I would incorporate ridership data as a normalization factor—adjusting the crime counts relative to the number of people at each transit node—to better isolate the effect of the station's presence on crime rates, rather than just reflecting higher foot traffic. This integration of spatial, temporal, and ridership metrics will allow for a more nuanced analysis of how transit nodes correlate with local crime levels."
   ]
  },
  {
   "attachments": {},
   "cell_type": "markdown",
   "metadata": {},
   "source": [
    "## Ideal dataset\n",
    "\n",
    "To be able to thoroughly investigate how public transportation accessibility correlates with crime rates, an ideal dataset would have following characteristics. First, it would have geographic detail to an extent that even within major cities you can more accurately assess the accessibility of transportation and their crime patterns. Secondly, it would have a big enough time dimension such that it depicts trends and changes of that correlation rather than just a screenshot of a single period of time. With these traits, the ideal dataset would also contain following information: Transit stop density, Frequency of that transit service, detailed number of passengers daily or weekly, Number of reported crimes, and Types of crimes happened. \n",
    "\n",
    "In terms of the number of observations, an ideal dataset would have the geographical information of the top 10 or 20 biggest cities’ reaching thousands of geographic units. At the same time, it would also have data that spans at least 5 and possibly 10 years, making each week, month, and year a possible point of observation. Combined it would create an extremely large dataset. \n",
    "\n",
    "Collected data would largely be two parts, crime and transit. Ideally, it would be best if there are detailed statistics from each city’s police department, which is not available for some cities in the U.S. That ideal dataset would have a timestamp, location, and type for each reported incident. On the other hand, the ideal transit data would contain numbers and locations of transit stops, their routes, usage, frequencies of operations, and respective fare.  \n",
    "\n",
    "Once the crime and transit data are gathered, it would first be cleaned so that there are no duplicates, invalid entries, or different metrics. Furthermore, if possible implement geocoding so that spatial data can be consistent. Then the datasets will be merged with different identifiers such as census codes or coordinates of each area along the time periods of each observation. Finally, the datasets will be used to train models such as regression models or to test with spatial analysis techniques making it possible to measure how transit accessibility is correlated with reported crime. \n"
   ]
  },
  {
   "attachments": {},
   "cell_type": "markdown",
   "metadata": {},
   "source": [
    "# Ethics & Privacy"
   ]
  },
  {
   "attachments": {},
   "cell_type": "markdown",
   "metadata": {},
   "source": [
    "This analysis will rely on publicly available data, ensuring that individual privacy is maintained throughout the whole research process. I recognize that the crime and transit datasets may contain inherent biases such as underreporting in certain cities due to varying policies or limitations in capturing the full scope of transit accessibility. To mitigate these concerns, I will ensure that I comply with the terms of use of each data source and utilize the Dean Ethics Checklist as guidance to keep us in check regarding principles such as accountability, transparency, and respect for individuals.\n",
    "\n",
    "To address any potential biases, I could implement several strategies in this project. Firstly I will be comparing multiple data sources such as crime reports from law enforcement agencies, transit ridership data from public transportation authorities to triangulate the findings. This approach will help to identify discrepancies and improve the reliability of my analyses. Additionally, I will apply statistical techniques, such as regression modeling, to control for confounding variables and assess the robustness of the results.\n",
    "\n",
    "Additionally, although these datasets are publicly available and fully anonymous, the inclusion of detailed geographic coordinates might lead to privacy concerns. Since spatial data can lead to inadvertent identification of individuals or communities, I must be strict about the data usage terms. To deal with this matter, I will have to further apply aggregation or anonymization techniques further into this model. In this reporting and dissemination, I will explicitly state that correlation does not imply causation, discuss the study’s limitations, and recommend that policymakers use these insights as one component within a broader framework aimed at enhancing both public safety and transit equity.\n"
   ]
  },
  {
   "attachments": {},
   "cell_type": "markdown",
   "metadata": {},
   "source": [
    "# Project Timeline Proposal"
   ]
  },
  {
   "attachments": {},
   "cell_type": "markdown",
   "metadata": {},
   "source": [
    "| Meeting Date  | Meeting Time| Completed Before Meeting  | Discuss at Meeting |\n",
    "|---|---|---|---|\n",
    "| 1/21  |  5 PM | Review expectations; brainstorm topics/questions  | Determine best form of communication (Discord); Discuss and decide on final project topic; discuss hypothesis; Start doing background research | \n",
    "| 2/4 |  5 PM |  Came up with multiple options for the final research topic and tried to narrow them down. Do background research on topic | Before choosing the final topic. I discussed pros and cons of each topic with TA. Discuss and identify potential dataset(s) and ethics; draft project proposal (on Google Docs) | \n",
    "| 2/9  | 5 PM  | Edit, finalize, and submit proposal; Search for datasets  |  Wrangling and possible analytical approaches.   |\n",
    "| 2/13  | 5 PM  | Complete initial data cleaning and visualization prototypes | Review/Edit exploratory analysis results; Make Analysis Plan and hypothesis nuances  |\n",
    "| 2/20  | 5 PM  | Continue detailed analysis and visualization development | Revision Analysis; Adjust analytical methods as needed; Complete project check-in |\n",
    "| 3/13  | 5 PM  | Finalize analysis and draft results, conclusions, and discussion| Revision full project and prepare for final presentation |\n",
    "| 3/20  | Before 11:59 PM  |  Make sure all charts and results are included and displayed properly. Finalize project report and update project website | Submit final project |"
   ]
  }
 ],
 "metadata": {
  "kernelspec": {
   "display_name": "Python 3 (ipykernel)",
   "language": "python",
   "name": "python3"
  },
  "language_info": {
   "codemirror_mode": {
    "name": "ipython",
    "version": 3
   },
   "file_extension": ".py",
   "mimetype": "text/x-python",
   "name": "python",
   "nbconvert_exporter": "python",
   "pygments_lexer": "ipython3",
   "version": "3.9.7"
  }
 },
 "nbformat": 4,
 "nbformat_minor": 2
}
